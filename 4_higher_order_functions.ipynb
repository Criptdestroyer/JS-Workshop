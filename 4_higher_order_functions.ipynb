{
 "cells": [
  {
   "cell_type": "code",
   "execution_count": 1,
   "metadata": {},
   "outputs": [
    {
     "name": "stdout",
     "output_type": "stream",
     "text": [
      "myArr:  [ 1, 2, 3, 4, 5 ]\n",
      "newArr:  [ 1, 4, 9, 16, 25 ]\n"
     ]
    }
   ],
   "source": [
    "var myArr = [1, 2, 3, 4, 5];\n",
    "console.log(\"myArr: \", myArr);\n",
    "\n",
    "function power_of_two(x) {\n",
    "    return x * x;\n",
    "}\n",
    "\n",
    "var newArr = myArr.map(power_of_two);\n",
    "console.log(\"newArr: \", newArr);"
   ]
  },
  {
   "cell_type": "code",
   "execution_count": 3,
   "metadata": {},
   "outputs": [
    {
     "name": "stdout",
     "output_type": "stream",
     "text": [
      "myArr:  [ 1, 2, 3, 4, 5 ]\n",
      "newArr:  [ 2, 4 ]\n"
     ]
    }
   ],
   "source": [
    "var myArr = [1, 2, 3, 4, 5];\n",
    "console.log(\"myArr: \", myArr);\n",
    "\n",
    "function filter_odd(x) {\n",
    "    return x % 2 == 0;\n",
    "}\n",
    "\n",
    "var newArr = myArr.filter(filter_odd);\n",
    "console.log(\"newArr: \", newArr);"
   ]
  },
  {
   "cell_type": "code",
   "execution_count": 4,
   "metadata": {},
   "outputs": [
    {
     "name": "stdout",
     "output_type": "stream",
     "text": [
      "myArr:  [ 1, 2, 3, 4, 5 ]\n",
      "newArr:  15\n"
     ]
    }
   ],
   "source": [
    "var myArr = [1, 2, 3, 4, 5];\n",
    "console.log(\"myArr: \", myArr);\n",
    "\n",
    "function addition(x, y) {\n",
    "    return x + y;\n",
    "}\n",
    "\n",
    "var newArr = myArr.reduce(addition);\n",
    "console.log(\"newArr: \", newArr);"
   ]
  },
  {
   "cell_type": "code",
   "execution_count": null,
   "metadata": {},
   "outputs": [],
   "source": []
  }
 ],
 "metadata": {
  "kernelspec": {
   "display_name": "Javascript (Node.js)",
   "language": "javascript",
   "name": "javascript"
  },
  "language_info": {
   "file_extension": ".js",
   "mimetype": "application/javascript",
   "name": "javascript",
   "version": "8.10.0"
  }
 },
 "nbformat": 4,
 "nbformat_minor": 2
}
