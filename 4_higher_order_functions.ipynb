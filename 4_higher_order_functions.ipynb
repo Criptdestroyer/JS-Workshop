{
 "cells": [
  {
   "cell_type": "markdown",
   "metadata": {},
   "source": [
    "<h2>Map</h2>\n",
    "<p>Fungsi yang digunakan untuk memetakan dan mengubah elemen-elemen pada suatu array menjadi array baru</p>"
   ]
  },
  {
   "cell_type": "code",
   "execution_count": 1,
   "metadata": {},
   "outputs": [
    {
     "name": "stdout",
     "output_type": "stream",
     "text": [
      "myArr:  [ 1, 2, 3, 4, 5 ]\n",
      "newArr:  [ 1, 4, 9, 16, 25 ]\n"
     ]
    }
   ],
   "source": [
    "var myArr = [1, 2, 3, 4, 5];\n",
    "console.log(\"myArr: \", myArr);\n",
    "\n",
    "function power_of_two(x) { // fungsi untuk memangkat-dua-kan suatu angka\n",
    "    return x * x;\n",
    "}\n",
    "\n",
    "var newArr = myArr.map(power_of_two); // seluruh elemen pada myArr dipangkatkan dua\n",
    "console.log(\"newArr: \", newArr);"
   ]
  },
  {
   "cell_type": "markdown",
   "metadata": {},
   "source": [
    "<h2>Filter</h2>\n",
    "<p>Fungsi untuk memfilter suatu array ke array baru sesuai dengan kondisi yang dibuat.</p>"
   ]
  },
  {
   "cell_type": "code",
   "execution_count": 1,
   "metadata": {},
   "outputs": [
    {
     "name": "stdout",
     "output_type": "stream",
     "text": [
      "myArr:  [ 1, 2, 3, 4, 5 ]\n",
      "newArr:  [ 2, 4 ]\n"
     ]
    }
   ],
   "source": [
    "var myArr = [1, 2, 3, 4, 5];\n",
    "console.log(\"myArr: \", myArr);\n",
    "\n",
    "function is_even(x) { // fungsi untuk mengecek apakah suatu angka merupakan angka genap\n",
    "    return x % 2 == 0;\n",
    "}\n",
    "\n",
    "var newArr = myArr.filter(is_even); // ambil elemen myArr yang merupakan angka genap\n",
    "console.log(\"newArr: \", newArr);"
   ]
  },
  {
   "cell_type": "markdown",
   "metadata": {},
   "source": [
    "<h2>Reduce</h2>\n",
    "<p>Fungsi untuk menggabungkan dua elemen yang bersebelahan pada array menjadi satu elemen</p>"
   ]
  },
  {
   "cell_type": "code",
   "execution_count": 4,
   "metadata": {},
   "outputs": [
    {
     "name": "stdout",
     "output_type": "stream",
     "text": [
      "myArr:  [ 1, 2, 3, 4, 5 ]\n",
      "1 + 2 = 3\n",
      "3 + 3 = 6\n",
      "6 + 4 = 10\n",
      "10 + 5 = 15\n",
      "newArr:  15\n"
     ]
    }
   ],
   "source": [
    "var myArr = [1, 2, 3, 4, 5];\n",
    "console.log(\"myArr: \", myArr);\n",
    "\n",
    "function addition(x, y) { // fungsi untuk menjumlahkan dua angka\n",
    "    console.log(x + \" + \" + y + \" = \" + (x + y));\n",
    "    return x + y;\n",
    "}\n",
    "\n",
    "var newArr = myArr.reduce(addition); // jumlahkan tiap dua elemen yang bersebelahan pada myArr\n",
    "console.log(\"newArr: \", newArr);"
   ]
  }
 ],
 "metadata": {
  "kernelspec": {
   "display_name": "Javascript (Node.js)",
   "language": "javascript",
   "name": "javascript"
  },
  "language_info": {
   "file_extension": ".js",
   "mimetype": "application/javascript",
   "name": "javascript",
   "version": "8.10.0"
  }
 },
 "nbformat": 4,
 "nbformat_minor": 2
}
