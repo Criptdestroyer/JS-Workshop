{
 "cells": [
  {
   "cell_type": "code",
   "execution_count": 1,
   "metadata": {},
   "outputs": [
    {
     "name": "stdout",
     "output_type": "stream",
     "text": [
      "1\n"
     ]
    }
   ],
   "source": [
    "var x = 1;\n",
    "console.log(x);"
   ]
  },
  {
   "cell_type": "code",
   "execution_count": 2,
   "metadata": {},
   "outputs": [
    {
     "name": "stdout",
     "output_type": "stream",
     "text": [
      "y value in function:  2\n"
     ]
    },
    {
     "ename": "ReferenceError",
     "evalue": "y is not defined",
     "output_type": "error",
     "traceback": [
      "evalmachine.<anonymous>:7",
      "console.log(\"y value out of function: \", y);",
      "                                         ^",
      "",
      "ReferenceError: y is not defined",
      "    at evalmachine.<anonymous>:7:42",
      "    at ContextifyScript.Script.runInThisContext (vm.js:50:33)",
      "    at Object.runInThisContext (vm.js:139:38)",
      "    at run ([eval]:1002:15)",
      "    at onRunRequest ([eval]:829:18)",
      "    at onMessage ([eval]:789:13)",
      "    at emitTwo (events.js:126:13)",
      "    at process.emit (events.js:214:7)",
      "    at emit (internal/child_process.js:772:12)",
      "    at _combinedTickCallback (internal/process/next_tick.js:141:11)"
     ]
    }
   ],
   "source": [
    "function create_var() {\n",
    "    var y = 2;\n",
    "    console.log(\"y value in function: \", y);\n",
    "}\n",
    "\n",
    "create_var();\n",
    "console.log(\"y value out of function: \", y);"
   ]
  },
  {
   "cell_type": "code",
   "execution_count": null,
   "metadata": {},
   "outputs": [],
   "source": [
    "let d = 9;\n",
    "console.log(\"let before: \", d);\n",
    "\n",
    "d = 11;\n",
    "console.log(\"let after: \", d);"
   ]
  },
  {
   "cell_type": "code",
   "execution_count": null,
   "metadata": {},
   "outputs": [],
   "source": [
    "const c = 5;\n",
    "console.log(\"const before: \", c);\n",
    "\n",
    "c = 7;\n",
    "console.log(\"const after: \", c);"
   ]
  },
  {
   "cell_type": "code",
   "execution_count": null,
   "metadata": {},
   "outputs": [],
   "source": [
    "function create_strict_var() {\n",
    "    var f = 2;\n",
    "    console.log(\"f value in function: \", f);\n",
    "}\n",
    "\n",
    "create_strict_var();\n",
    "console.log(\"f value out of function: \", f);"
   ]
  },
  {
   "cell_type": "code",
   "execution_count": null,
   "metadata": {},
   "outputs": [],
   "source": []
  }
 ],
 "metadata": {
  "kernelspec": {
   "display_name": "Javascript (Node.js)",
   "language": "javascript",
   "name": "javascript"
  },
  "language_info": {
   "file_extension": ".js",
   "mimetype": "application/javascript",
   "name": "javascript",
   "version": "8.10.0"
  }
 },
 "nbformat": 4,
 "nbformat_minor": 2
}
