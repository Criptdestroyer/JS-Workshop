{
 "cells": [
  {
   "cell_type": "markdown",
   "metadata": {},
   "source": [
    "<h2>Asynchronous Process</h2>\n",
    "<p>Secara <i>default</i>, proses pada JavaScript merupakan proses-proses yang bersifat <i>Synchronous</i>, yaitu kode program dieksekusi dari baris atas sampai ke bawah secara berurutan. Namun ada beberapa fungsi pada JavaScript yang bersifat <i>Asynchronous</i>, salah satunya yaitu <code>setTimeout</code></p>"
   ]
  },
  {
   "cell_type": "code",
   "execution_count": 1,
   "metadata": {},
   "outputs": [
    {
     "name": "stdout",
     "output_type": "stream",
     "text": [
      "This is third\n",
      "This is second\n",
      "This is first\n"
     ]
    }
   ],
   "source": [
    "setTimeout(function() {\n",
    "    // kode program di dalam sini akan dieksekusi setelah 2000 milidetik (atau 2 detik)\n",
    "    console.log(\"This is first\");\n",
    "}, 2000);\n",
    "\n",
    "setTimeout(function() {\n",
    "    // kode program di dalam sini akan dieksekusi setelah 1000 milidetik (atau 1 detik)\n",
    "    console.log(\"This is second\");\n",
    "}, 1000);\n",
    "\n",
    "console.log(\"This is third\");"
   ]
  },
  {
   "cell_type": "markdown",
   "metadata": {},
   "source": [
    "<h2>Callback</h2>\n",
    "<p>Jika ingin mengeksekusi program di atas secara berurutan, maka kita harus menaruh kode program di dalam <i>callback</i>. <i>Callback</i> merupakan fungsi yang dieksekusi di akhir jalannya suatu fungsi yang lain. Fungsi <code>setTimeout(<i>Callback, Number</i>)</code> menerima parameter pertama berupa <i>callback</i></p>"
   ]
  },
  {
   "cell_type": "code",
   "execution_count": 4,
   "metadata": {},
   "outputs": [
    {
     "name": "stdout",
     "output_type": "stream",
     "text": [
      "\n",
      "This is first\n",
      "This is second\n",
      "This is third\n"
     ]
    }
   ],
   "source": [
    "setTimeout(function() {\n",
    "    // kode program di dalam sini akan dieksekusi setelah 2000 milidetik (atau 2 detik)\n",
    "    console.log(\"This is first\");\n",
    "    \n",
    "    setTimeout(function() {\n",
    "        // kode program di dalam sini akan dieksekusi setelah 1000 milidetik (atau 1 detik)\n",
    "        \n",
    "        console.log(\"This is second\");\n",
    "        console.log(\"This is third\");\n",
    "    \n",
    "    }, 1000);\n",
    "    \n",
    "}, 2000);\n",
    "\n",
    "console.log(); // abaikan baris kode ini"
   ]
  },
  {
   "cell_type": "markdown",
   "metadata": {},
   "source": [
    "<p>Kamu pasti akan menemukan pola kode program yang banyak menggunakan <i>callback</i> seperti ini ketika membuat program dengan Node.js. Jika <i>callback</i> yang digunakan terlalu banyak dan dalam, maka akan terjadi yang disebut sebagai <a href=\"http://callbackhell.com/\"><i>Callback Hell</i></a>.</p>\n",
    "<img src=\"img/callback_hell.jpeg\">\n",
    "<p>Salah satu cara untuk menyelesaikan masalah tersebut adalah dengan menggunakan <i>Promise</i></p>"
   ]
  },
  {
   "cell_type": "markdown",
   "metadata": {},
   "source": [
    "<h2>Promise</h2>\n",
    "<p><i>Promise</i> merupakan suatu objek yang dapat membuat suatu fungsi yang <i>Asynchronous</i> bersifat menjadi <i>Synchronous</i> dengan menggunakan <code>then</code>. Fungsi lain yang bersifat <i>Asynchronous</i> adalah <code>fetch</code>. <code>fetch</code> merupakan fungsi yang digunakan untuk melakukan <i>network request</i> berdasarkan url yang diberikan. Namun kita dapat menggunakan <i>promise</i> pada <code>fetch</code> karena nilai balikannya berupa <i>promise</i>. Sehingga kita dapat merantainya dengan <code>then</code></p>"
   ]
  },
  {
   "cell_type": "code",
   "execution_count": 15,
   "metadata": {},
   "outputs": [
    {
     "name": "stdout",
     "output_type": "stream",
     "text": [
      "object\n",
      "[ { userId: 1,\n",
      "    id: 1,\n",
      "    title: 'delectus aut autem',\n",
      "    completed: false } ]\n"
     ]
    }
   ],
   "source": [
    "var fetch = require(\"node-fetch\"); // baris kode ini boleh tidak ditulis jika dieksekusi di browser\n",
    "\n",
    "function do_network_request() {\n",
    "       fetch(\"https://jsonplaceholder.typicode.com/todos?id=1\")\n",
    "        .then(function(response) {\n",
    "            return response.json(); // mengambil response body dalam bentuk json\n",
    "        })\n",
    "        .then(function(json) {\n",
    "            console.log(typeof(json));\n",
    "            console.log(json);\n",
    "        });\n",
    "}\n",
    "\n",
    "do_network_request();"
   ]
  },
  {
   "cell_type": "markdown",
   "metadata": {},
   "source": [
    "<h2>Async/Await</h2>\n",
    "<p>Cara lain agar membuat fungsi <i>Asynchronous</i> menjadi <i>Synchronous</i> adalah dengan menggunakan <i>Async/Await</i>. Gunakan <i>keyword</i> <code>async</code> pada fungsi yang ada proses yang bersifat <i>Asynchronous</i> dan berupa <i>promise</i>, lalu tambahkan <i>keyword</i> <code>await</code> pada proses yang nilai balikannya berupa <i>promise</i> tersebut.</p>"
   ]
  },
  {
   "cell_type": "code",
   "execution_count": 17,
   "metadata": {},
   "outputs": [
    {
     "name": "stdout",
     "output_type": "stream",
     "text": [
      "[ { userId: 1,\n",
      "    id: 2,\n",
      "    title: 'quis ut nam facilis et officia qui',\n",
      "    completed: false } ]\n"
     ]
    }
   ],
   "source": [
    "async function do_network_request() {\n",
    "    var response = await fetch(\"https://jsonplaceholder.typicode.com/todos?id=2\");\n",
    "    var json = await response.json();\n",
    "    console.log(json);\n",
    "}\n",
    "\n",
    "do_network_request();"
   ]
  }
 ],
 "metadata": {
  "kernelspec": {
   "display_name": "Javascript (Node.js)",
   "language": "javascript",
   "name": "javascript"
  },
  "language_info": {
   "file_extension": ".js",
   "mimetype": "application/javascript",
   "name": "javascript",
   "version": "8.10.0"
  }
 },
 "nbformat": 4,
 "nbformat_minor": 2
}
