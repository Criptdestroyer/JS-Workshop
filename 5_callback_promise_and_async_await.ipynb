{
 "cells": [
  {
   "cell_type": "code",
   "execution_count": 24,
   "metadata": {},
   "outputs": [
    {
     "name": "stdout",
     "output_type": "stream",
     "text": [
      "This is third\n",
      "This is second\n",
      "This is first\n"
     ]
    }
   ],
   "source": [
    "setTimeout(function() {\n",
    "    // kode program di dalam sini akan dieksekusi setelah 2000 milidetik (atau 2 detik)\n",
    "    console.log(\"This is first\");\n",
    "}, 2000);\n",
    "\n",
    "setTimeout(function() {\n",
    "    console.log(\"This is second\");\n",
    "}, 1000);\n",
    "\n",
    "console.log(\"This is third\");"
   ]
  },
  {
   "cell_type": "code",
   "execution_count": 15,
   "metadata": {},
   "outputs": [
    {
     "name": "stdout",
     "output_type": "stream",
     "text": [
      "object\n",
      "[ { userId: 1,\n",
      "    id: 1,\n",
      "    title: 'delectus aut autem',\n",
      "    completed: false } ]\n"
     ]
    }
   ],
   "source": [
    "var fetch = require(\"node-fetch\"); // baris kode ini boleh tidak ditulis jika dieksekusi di browser\n",
    "\n",
    "function do_network_request() {\n",
    "       fetch(\"https://jsonplaceholder.typicode.com/todos?id=1\")\n",
    "        .then(function(response) {\n",
    "            return response.json(); // mengambil response body dalam bentuk json\n",
    "        })\n",
    "        .then(function(json) {\n",
    "            console.log(typeof(json));\n",
    "            console.log(json);\n",
    "        });\n",
    "}\n",
    "\n",
    "do_network_request();"
   ]
  },
  {
   "cell_type": "code",
   "execution_count": 17,
   "metadata": {},
   "outputs": [
    {
     "name": "stdout",
     "output_type": "stream",
     "text": [
      "[ { userId: 1,\n",
      "    id: 2,\n",
      "    title: 'quis ut nam facilis et officia qui',\n",
      "    completed: false } ]\n"
     ]
    }
   ],
   "source": [
    "async function do_network_request() {\n",
    "    var response = await fetch(\"https://jsonplaceholder.typicode.com/todos?id=2\");\n",
    "    var json = await response.json();\n",
    "    console.log(json);\n",
    "}\n",
    "\n",
    "do_network_request();"
   ]
  },
  {
   "cell_type": "code",
   "execution_count": null,
   "metadata": {},
   "outputs": [],
   "source": []
  }
 ],
 "metadata": {
  "kernelspec": {
   "display_name": "Javascript (Node.js)",
   "language": "javascript",
   "name": "javascript"
  },
  "language_info": {
   "file_extension": ".js",
   "mimetype": "application/javascript",
   "name": "javascript",
   "version": "8.10.0"
  }
 },
 "nbformat": 4,
 "nbformat_minor": 2
}
