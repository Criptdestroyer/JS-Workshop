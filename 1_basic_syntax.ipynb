{
 "cells": [
  {
   "cell_type": "markdown",
   "metadata": {},
   "source": [
    "<h3>Variable Declaration</h3>"
   ]
  },
  {
   "cell_type": "code",
   "execution_count": 1,
   "metadata": {},
   "outputs": [
    {
     "name": "stdout",
     "output_type": "stream",
     "text": [
      "3\n"
     ]
    }
   ],
   "source": [
    "// deklarasi dan inisialisasi variabel dengan nama myVar dengan nilai 3\n",
    "var myVar = 3;\n",
    "\n",
    "// tampilkan nilai variabel myVar ke console\n",
    "console.log(myVar);"
   ]
  },
  {
   "cell_type": "code",
   "execution_count": 2,
   "metadata": {},
   "outputs": [
    {
     "name": "stdout",
     "output_type": "stream",
     "text": [
      "undefined\n"
     ]
    }
   ],
   "source": [
    "var a;\n",
    "console.log(a); // secara default suatu variabel bernilai undefined jika tidak diinisialisasi"
   ]
  },
  {
   "cell_type": "markdown",
   "metadata": {},
   "source": [
    "<h3>Data Type</h3>\n",
    "<p>Untuk melihat tipe data dari suatu nilai, kita dapat menggunakan fungsi <i>typeof()</i></p>"
   ]
  },
  {
   "cell_type": "code",
   "execution_count": 3,
   "metadata": {},
   "outputs": [
    {
     "name": "stdout",
     "output_type": "stream",
     "text": [
      "Variabel myInt bernilai 4 dengan tipe number\n",
      "Variabel myName bernilai Azhary dengan tipe string\n",
      "Variabel pi bernilai 3.14 dengan tipe number\n",
      "Variabel myBool bernilai true dengan tipe boolean\n",
      "Variabel myUndefined bernilai undefined dengan tipe undefined\n",
      "Variabel myNull bernilai null dengan tipe object\n"
     ]
    }
   ],
   "source": [
    "var myInt = 4;\n",
    "var myName = \"Azhary\";\n",
    "var pi = 3.14;\n",
    "var myBool = true;\n",
    "var myUndefined = undefined;\n",
    "var myNull = null;\n",
    "\n",
    "console.log(\"Variabel myInt bernilai \" + myInt + \" dengan tipe \" + typeof(myInt));\n",
    "console.log(\"Variabel myName bernilai \" + myName + \" dengan tipe \" + typeof(myName));\n",
    "console.log(\"Variabel pi bernilai \" + pi + \" dengan tipe \" + typeof(pi));\n",
    "console.log(\"Variabel myBool bernilai \" + myBool + \" dengan tipe \" + typeof(myBool));\n",
    "console.log(\"Variabel myUndefined bernilai \" + myUndefined + \" dengan tipe \" + typeof(myUndefined));\n",
    "console.log(\"Variabel myNull bernilai \" + myNull + \" dengan tipe \" + typeof(myNull));"
   ]
  },
  {
   "cell_type": "markdown",
   "metadata": {},
   "source": [
    "<h3>Loosely-typed Variable</h3>\n",
    "<p style=\"font-size: 16px;\">Tipe data variabel dalam JavaScript bersifat <i>loosely-typed</i>, artinya tipe data suatu variabel dapat berubah-ubah di tengah jalannya program</p>"
   ]
  },
  {
   "cell_type": "code",
   "execution_count": 4,
   "metadata": {},
   "outputs": [
    {
     "name": "stdout",
     "output_type": "stream",
     "text": [
      "number\n",
      "string\n"
     ]
    }
   ],
   "source": [
    "var myVar = 10; // awalnya myVar bertipe data number\n",
    "console.log(typeof(myVar));\n",
    "\n",
    "myVar = \"Synapse\"; // disini tipe data myVar berubah menjadi string\n",
    "console.log(typeof(myVar));"
   ]
  },
  {
   "cell_type": "markdown",
   "metadata": {},
   "source": [
    "<h3>Mathematical Operator</h3>"
   ]
  },
  {
   "cell_type": "code",
   "execution_count": 5,
   "metadata": {},
   "outputs": [
    {
     "name": "stdout",
     "output_type": "stream",
     "text": [
      "5\n",
      "3\n",
      "9\n",
      "1.3333333333333333\n",
      "2\n"
     ]
    }
   ],
   "source": [
    "console.log(2 + 3); // 5\n",
    "console.log(5 - 2); // 3\n",
    "console.log(3 * 3); // 9\n",
    "console.log(4 / 3); // 1.33\n",
    "console.log(5 % 3); // 2"
   ]
  },
  {
   "cell_type": "markdown",
   "metadata": {},
   "source": [
    "<h3>Conditional Statement</h3>"
   ]
  },
  {
   "cell_type": "code",
   "execution_count": 6,
   "metadata": {},
   "outputs": [
    {
     "name": "stdout",
     "output_type": "stream",
     "text": [
      "x bernilai 7\n"
     ]
    }
   ],
   "source": [
    "var x = 7;\n",
    "\n",
    "if (x == 7)\n",
    "{\n",
    "    console.log(\"x bernilai 7\");\n",
    "}\n",
    "else\n",
    "{\n",
    "    console.log(\"x bukan bernilai 7\");\n",
    "}"
   ]
  },
  {
   "cell_type": "code",
   "execution_count": 7,
   "metadata": {},
   "outputs": [
    {
     "name": "stdout",
     "output_type": "stream",
     "text": [
      "x bernilai positif\n"
     ]
    }
   ],
   "source": [
    "var x = 7;\n",
    "\n",
    "if (x > 0)\n",
    "{\n",
    "    console.log(\"x bernilai positif\");\n",
    "}\n",
    "else if (x < 0)\n",
    "{\n",
    "    console.log(\"x bernilai negatif\");\n",
    "}\n",
    "else\n",
    "{\n",
    "    console.log(\"x bernilai 0\");\n",
    "}"
   ]
  },
  {
   "cell_type": "markdown",
   "metadata": {},
   "source": [
    "<h3>Comparison and Logical Operators</h3>"
   ]
  },
  {
   "cell_type": "code",
   "execution_count": 8,
   "metadata": {},
   "outputs": [
    {
     "name": "stdout",
     "output_type": "stream",
     "text": [
      "true\n",
      "false\n",
      "true\n",
      "false\n",
      "false\n",
      "true\n",
      "true\n",
      "false\n"
     ]
    }
   ],
   "source": [
    "var x = 7;\n",
    "\n",
    "console.log(x == 7); // true\n",
    "console.log(x > 7); // false\n",
    "console.log(x >= 7); // true\n",
    "console.log(x != 7); // false\n",
    "console.log(x < 7); // false\n",
    "console.log(x <= 7); // true\n",
    "\n",
    "console.log(x >= 7 || x < 7); // true or false -> true\n",
    "console.log(x >= 7 && x < 7); // true and false -> false"
   ]
  },
  {
   "cell_type": "markdown",
   "metadata": {},
   "source": [
    "<h3>Strict Comparison</h3>\n",
    "<p>Operator '==' mengecek nilai antar dua variabel, sedangkan operator '===' mengecek nilai dan tipe data antar dua variabel</p>"
   ]
  },
  {
   "cell_type": "code",
   "execution_count": 9,
   "metadata": {},
   "outputs": [
    {
     "name": "stdout",
     "output_type": "stream",
     "text": [
      "x bernilai 7\n"
     ]
    }
   ],
   "source": [
    "var x = 7;\n",
    "if (x == \"7\")\n",
    "{\n",
    "    console.log(\"x bernilai 7\");\n",
    "}\n",
    "else\n",
    "{\n",
    "    console.log(\"x bukan bernilai 7\");\n",
    "}"
   ]
  },
  {
   "cell_type": "code",
   "execution_count": 10,
   "metadata": {},
   "outputs": [
    {
     "name": "stdout",
     "output_type": "stream",
     "text": [
      "x bukan bernilai 7\n"
     ]
    }
   ],
   "source": [
    "var x = 7;\n",
    "if (x === \"7\")\n",
    "{\n",
    "    console.log(\"x bernilai 7\");\n",
    "}\n",
    "else\n",
    "{\n",
    "    console.log(\"x bukan bernilai 7\");\n",
    "}"
   ]
  },
  {
   "cell_type": "code",
   "execution_count": 11,
   "metadata": {},
   "outputs": [
    {
     "name": "stdout",
     "output_type": "stream",
     "text": [
      "true\n",
      "false\n",
      "true\n",
      "true\n",
      "true\n",
      "false\n"
     ]
    }
   ],
   "source": [
    "console.log(7 == \"7\"); // true\n",
    "console.log(7 === \"7\"); // false\n",
    "console.log(7 !== \"7\"); // true\n",
    "console.log(false == 0); // true\n",
    "console.log(true == 1); // true\n",
    "console.log(true === 1); // false"
   ]
  },
  {
   "cell_type": "markdown",
   "metadata": {},
   "source": [
    "<h3>Perulangan</h3>"
   ]
  },
  {
   "cell_type": "code",
   "execution_count": 12,
   "metadata": {},
   "outputs": [
    {
     "name": "stdout",
     "output_type": "stream",
     "text": [
      "0\n",
      "1\n",
      "2\n",
      "3\n",
      "4\n",
      "5\n",
      "6\n",
      "7\n",
      "8\n",
      "9\n"
     ]
    }
   ],
   "source": [
    "for (var i = 0; i < 10; i++)\n",
    "{\n",
    "    console.log(i);\n",
    "}"
   ]
  },
  {
   "cell_type": "code",
   "execution_count": 13,
   "metadata": {},
   "outputs": [
    {
     "name": "stdout",
     "output_type": "stream",
     "text": [
      "10\n",
      "9\n",
      "8\n",
      "7\n",
      "6\n",
      "5\n",
      "4\n",
      "3\n",
      "2\n",
      "1\n",
      "0\n"
     ]
    }
   ],
   "source": [
    "for (var i = 10; i >= 0; i--)\n",
    "{\n",
    "    console.log(i);\n",
    "}"
   ]
  }
 ],
 "metadata": {
  "kernelspec": {
   "display_name": "Javascript (Node.js)",
   "language": "javascript",
   "name": "javascript"
  },
  "language_info": {
   "file_extension": ".js",
   "mimetype": "application/javascript",
   "name": "javascript",
   "version": "8.10.0"
  }
 },
 "nbformat": 4,
 "nbformat_minor": 2
}
